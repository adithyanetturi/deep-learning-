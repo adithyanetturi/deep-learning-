{
 "cells": [
  {
   "cell_type": "code",
   "execution_count": 1,
   "id": "87cb9ca1",
   "metadata": {},
   "outputs": [],
   "source": [
    "import numpy as np"
   ]
  },
  {
   "cell_type": "markdown",
   "id": "638c4056",
   "metadata": {},
   "source": [
    "## input layer"
   ]
  },
  {
   "cell_type": "code",
   "execution_count": 5,
   "id": "21dd12d1",
   "metadata": {},
   "outputs": [
    {
     "name": "stdout",
     "output_type": "stream",
     "text": [
      "Input Layer= [2 3]\n"
     ]
    }
   ],
   "source": [
    "data = np.array([2,3])\n",
    "x0 = data[0]\n",
    "x1 = data[1]\n",
    "input_layer = np.array([x0,x1])\n",
    "print(\"Input Layer=\",input_layer)"
   ]
  },
  {
   "cell_type": "markdown",
   "id": "9b602fb2",
   "metadata": {},
   "source": [
    "## hidden layer"
   ]
  },
  {
   "cell_type": "code",
   "execution_count": 7,
   "id": "bdd2c9f2",
   "metadata": {},
   "outputs": [
    {
     "name": "stdout",
     "output_type": "stream",
     "text": [
      "Hidden layer [5 1]\n"
     ]
    }
   ],
   "source": [
    "weights = {\n",
    "    'x2' : np.array([1,1]),\n",
    "    'x3' : np.array([-1,1]),\n",
    "    'x4' : np.array([2,-1])\n",
    "}\n",
    "## [ xi * wi\n",
    "x2 = (input_layer*weights['x2']).sum()\n",
    "x3 = (input_layer*weights['x3']).sum()\n",
    "hidden_layer = np.array([x2,x3])\n",
    "print(\"Hidden layer\",hidden_layer)"
   ]
  },
  {
   "cell_type": "markdown",
   "id": "e639e0db",
   "metadata": {},
   "source": [
    "## output layer"
   ]
  },
  {
   "cell_type": "code",
   "execution_count": 8,
   "id": "39b87e47",
   "metadata": {},
   "outputs": [
    {
     "name": "stdout",
     "output_type": "stream",
     "text": [
      "output layer 9\n"
     ]
    }
   ],
   "source": [
    "output_layer = (hidden_layer*weights['x4']).sum()\n",
    "print(\"output layer\",output_layer)"
   ]
  },
  {
   "cell_type": "code",
   "execution_count": null,
   "id": "41772e51",
   "metadata": {},
   "outputs": [],
   "source": []
  }
 ],
 "metadata": {
  "kernelspec": {
   "display_name": "Python 3 (ipykernel)",
   "language": "python",
   "name": "python3"
  },
  "language_info": {
   "codemirror_mode": {
    "name": "ipython",
    "version": 3
   },
   "file_extension": ".py",
   "mimetype": "text/x-python",
   "name": "python",
   "nbconvert_exporter": "python",
   "pygments_lexer": "ipython3",
   "version": "3.9.12"
  }
 },
 "nbformat": 4,
 "nbformat_minor": 5
}
